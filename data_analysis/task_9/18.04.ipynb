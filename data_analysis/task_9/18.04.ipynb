{
 "cells": [
  {
   "cell_type": "markdown",
   "metadata": {},
   "source": [
    "# 18.04.20\n",
    "\n",
    "**Authors:** Miron Rogovets, Demid Afonichev, Maxim Shmakov\n",
    "\n",
    "---\n",
    "\n",
    "### Task 1. Open _dollar.dta_ file\n",
    "\n",
    "Dependent variable: _dollar_\n",
    "\n",
    "Independent variable: _time_\n",
    "\n",
    "- Use quadratic model to describe the change in the dollar exchange rate over the\n",
    "considered period.\n",
    "- Describe parameters of the regression model.\n",
    "- Do the diagnostics of the model."
   ]
  },
  {
   "cell_type": "code",
   "execution_count": 1,
   "metadata": {},
   "outputs": [],
   "source": [
    "import pandas as pd\n",
    "import numpy as np\n",
    "import matplotlib.pyplot as plt\n",
    "import seaborn as sns\n",
    "import pyreadstat\n",
    "import statsmodels.formula.api as sm\n",
    "from statsmodels.api import add_constant\n",
    "import linearmodels.panel as lm"
   ]
  },
  {
   "cell_type": "code",
   "execution_count": 2,
   "metadata": {},
   "outputs": [
    {
     "name": "stdout",
     "output_type": "stream",
     "text": [
      "(283, 3)\n"
     ]
    },
    {
     "data": {
      "text/html": [
       "<div>\n",
       "<style scoped>\n",
       "    .dataframe tbody tr th:only-of-type {\n",
       "        vertical-align: middle;\n",
       "    }\n",
       "\n",
       "    .dataframe tbody tr th {\n",
       "        vertical-align: top;\n",
       "    }\n",
       "\n",
       "    .dataframe thead th {\n",
       "        text-align: right;\n",
       "    }\n",
       "</style>\n",
       "<table border=\"1\" class=\"dataframe\">\n",
       "  <thead>\n",
       "    <tr style=\"text-align: right;\">\n",
       "      <th></th>\n",
       "      <th>dollar</th>\n",
       "      <th>date</th>\n",
       "      <th>time</th>\n",
       "    </tr>\n",
       "  </thead>\n",
       "  <tbody>\n",
       "    <tr>\n",
       "      <th>0</th>\n",
       "      <td>32.6587</td>\n",
       "      <td>01.01.2014</td>\n",
       "      <td>1.0</td>\n",
       "    </tr>\n",
       "    <tr>\n",
       "      <th>1</th>\n",
       "      <td>33.1547</td>\n",
       "      <td>10.01.2014</td>\n",
       "      <td>2.0</td>\n",
       "    </tr>\n",
       "    <tr>\n",
       "      <th>2</th>\n",
       "      <td>33.2062</td>\n",
       "      <td>11.01.2014</td>\n",
       "      <td>3.0</td>\n",
       "    </tr>\n",
       "  </tbody>\n",
       "</table>\n",
       "</div>"
      ],
      "text/plain": [
       "    dollar        date  time\n",
       "0  32.6587  01.01.2014   1.0\n",
       "1  33.1547  10.01.2014   2.0\n",
       "2  33.2062  11.01.2014   3.0"
      ]
     },
     "execution_count": 2,
     "metadata": {},
     "output_type": "execute_result"
    }
   ],
   "source": [
    "df = pd.read_stata('data/dollar.dta')\n",
    "print(df.shape)\n",
    "df.head(3)"
   ]
  },
  {
   "cell_type": "code",
   "execution_count": 3,
   "metadata": {},
   "outputs": [
    {
     "data": {
      "text/plain": [
       "{'dollar': 'dollar exchange rate', 'date': 'date', 'time': None}"
      ]
     },
     "execution_count": 3,
     "metadata": {},
     "output_type": "execute_result"
    }
   ],
   "source": [
    "_, meta = pyreadstat.read_dta('data/dollar.dta')\n",
    "meta.column_names_to_labels"
   ]
  },
  {
   "cell_type": "code",
   "execution_count": 4,
   "metadata": {},
   "outputs": [
    {
     "data": {
      "text/plain": [
       "dollar    float64\n",
       "date       object\n",
       "time      float64\n",
       "dtype: object"
      ]
     },
     "execution_count": 4,
     "metadata": {},
     "output_type": "execute_result"
    }
   ],
   "source": [
    "df.dtypes"
   ]
  },
  {
   "cell_type": "markdown",
   "metadata": {},
   "source": [
    "Check if we have any missing values"
   ]
  },
  {
   "cell_type": "code",
   "execution_count": 5,
   "metadata": {},
   "outputs": [
    {
     "data": {
      "text/plain": [
       "dollar    0\n",
       "date      0\n",
       "time      0\n",
       "dtype: int64"
      ]
     },
     "execution_count": 5,
     "metadata": {},
     "output_type": "execute_result"
    }
   ],
   "source": [
    "df.isna().sum()"
   ]
  },
  {
   "cell_type": "markdown",
   "metadata": {},
   "source": [
    "Drop unused column"
   ]
  },
  {
   "cell_type": "code",
   "execution_count": 6,
   "metadata": {},
   "outputs": [
    {
     "data": {
      "text/html": [
       "<div>\n",
       "<style scoped>\n",
       "    .dataframe tbody tr th:only-of-type {\n",
       "        vertical-align: middle;\n",
       "    }\n",
       "\n",
       "    .dataframe tbody tr th {\n",
       "        vertical-align: top;\n",
       "    }\n",
       "\n",
       "    .dataframe thead th {\n",
       "        text-align: right;\n",
       "    }\n",
       "</style>\n",
       "<table border=\"1\" class=\"dataframe\">\n",
       "  <thead>\n",
       "    <tr style=\"text-align: right;\">\n",
       "      <th></th>\n",
       "      <th>dollar</th>\n",
       "      <th>time</th>\n",
       "    </tr>\n",
       "  </thead>\n",
       "  <tbody>\n",
       "    <tr>\n",
       "      <th>0</th>\n",
       "      <td>32.6587</td>\n",
       "      <td>1.0</td>\n",
       "    </tr>\n",
       "    <tr>\n",
       "      <th>1</th>\n",
       "      <td>33.1547</td>\n",
       "      <td>2.0</td>\n",
       "    </tr>\n",
       "    <tr>\n",
       "      <th>2</th>\n",
       "      <td>33.2062</td>\n",
       "      <td>3.0</td>\n",
       "    </tr>\n",
       "  </tbody>\n",
       "</table>\n",
       "</div>"
      ],
      "text/plain": [
       "    dollar  time\n",
       "0  32.6587   1.0\n",
       "1  33.1547   2.0\n",
       "2  33.2062   3.0"
      ]
     },
     "execution_count": 6,
     "metadata": {},
     "output_type": "execute_result"
    }
   ],
   "source": [
    "data = df.drop(columns=['date'])\n",
    "data.head(3)"
   ]
  },
  {
   "cell_type": "markdown",
   "metadata": {},
   "source": [
    "Then we create and fit our model"
   ]
  },
  {
   "cell_type": "code",
   "execution_count": 7,
   "metadata": {},
   "outputs": [
    {
     "data": {
      "text/plain": [
       "'dollar ~ time + np.power(time, 2)'"
      ]
     },
     "execution_count": 7,
     "metadata": {},
     "output_type": "execute_result"
    }
   ],
   "source": [
    "formula_str = 'dollar ~ time + np.power(time, 2)'\n",
    "formula_str"
   ]
  },
  {
   "cell_type": "code",
   "execution_count": 8,
   "metadata": {},
   "outputs": [
    {
     "name": "stdout",
     "output_type": "stream",
     "text": [
      "                            OLS Regression Results                            \n",
      "==============================================================================\n",
      "Dep. Variable:                 dollar   R-squared:                       0.919\n",
      "Model:                            OLS   Adj. R-squared:                  0.919\n",
      "Method:                 Least Squares   F-statistic:                     1594.\n",
      "Date:                Thu, 23 Apr 2020   Prob (F-statistic):          1.00e-153\n",
      "Time:                        01:29:56   Log-Likelihood:                -713.96\n",
      "No. Observations:                 283   AIC:                             1434.\n",
      "Df Residuals:                     280   BIC:                             1445.\n",
      "Df Model:                           2                                         \n",
      "Covariance Type:            nonrobust                                         \n",
      "=====================================================================================\n",
      "                        coef    std err          t      P>|t|      [0.025      0.975]\n",
      "-------------------------------------------------------------------------------------\n",
      "Intercept            38.9605      0.545     71.546      0.000      37.889      40.032\n",
      "time                 -0.1484      0.009    -16.759      0.000      -0.166      -0.131\n",
      "np.power(time, 2)     0.0009   3.02e-05     29.664      0.000       0.001       0.001\n",
      "==============================================================================\n",
      "Omnibus:                       16.520   Durbin-Watson:                   0.135\n",
      "Prob(Omnibus):                  0.000   Jarque-Bera (JB):               20.350\n",
      "Skew:                           0.477   Prob(JB):                     3.81e-05\n",
      "Kurtosis:                       3.903   Cond. No.                     1.09e+05\n",
      "==============================================================================\n",
      "\n",
      "Warnings:\n",
      "[1] Standard Errors assume that the covariance matrix of the errors is correctly specified.\n",
      "[2] The condition number is large, 1.09e+05. This might indicate that there are\n",
      "strong multicollinearity or other numerical problems.\n"
     ]
    }
   ],
   "source": [
    "model = sm.ols(formula=formula_str, data=data)\n",
    "fitted = model.fit()\n",
    "print(fitted.summary())"
   ]
  },
  {
   "cell_type": "markdown",
   "metadata": {},
   "source": [
    "### Model description"
   ]
  },
  {
   "cell_type": "code",
   "execution_count": 9,
   "metadata": {},
   "outputs": [
    {
     "data": {
      "text/plain": [
       "Intercept            38.960516\n",
       "time                 -0.148388\n",
       "np.power(time, 2)     0.000896\n",
       "dtype: float64"
      ]
     },
     "execution_count": 9,
     "metadata": {},
     "output_type": "execute_result"
    }
   ],
   "source": [
    "fitted.params"
   ]
  },
  {
   "cell_type": "markdown",
   "metadata": {},
   "source": [
    "We have the following regression equation:"
   ]
  },
  {
   "cell_type": "code",
   "execution_count": 10,
   "metadata": {},
   "outputs": [
    {
     "name": "stdout",
     "output_type": "stream",
     "text": [
      "Y = 38.961 + -0.148*time + 0.0009*time^2\n"
     ]
    }
   ],
   "source": [
    "print('Y = {:.3f} + {:.3f}*time + {:.4f}*time^2'.format(fitted.params[0], fitted.params[1], fitted.params[2]))"
   ]
  },
  {
   "cell_type": "markdown",
   "metadata": {},
   "source": [
    "$R^2$ & model significance:"
   ]
  },
  {
   "cell_type": "code",
   "execution_count": 11,
   "metadata": {},
   "outputs": [
    {
     "name": "stdout",
     "output_type": "stream",
     "text": [
      "R^2 = 0.919248\n",
      "F stat = 0.000000\n"
     ]
    }
   ],
   "source": [
    "print('R^2 = {:f}'.format(fitted.rsquared))\n",
    "print('F stat = {:f}'.format(fitted.f_pvalue))"
   ]
  },
  {
   "cell_type": "markdown",
   "metadata": {},
   "source": [
    "The regression model is statistically significant. It explains 91.9% of dollar’s exchange rate variation"
   ]
  },
  {
   "cell_type": "code",
   "execution_count": 12,
   "metadata": {},
   "outputs": [],
   "source": [
    "def yes_no(b):\n",
    "    if abs(b) < 0.05:\n",
    "        return 'Yes'\n",
    "    else:\n",
    "        return 'No'"
   ]
  },
  {
   "cell_type": "code",
   "execution_count": 13,
   "metadata": {},
   "outputs": [
    {
     "name": "stdout",
     "output_type": "stream",
     "text": [
      "time : p-value: 0.000, statistically significant? Yes\n",
      "np.power(time, 2) : p-value: 0.000, statistically significant? Yes\n"
     ]
    }
   ],
   "source": [
    "for i, p in zip(fitted.pvalues[1:].index, fitted.pvalues[1:]):\n",
    "    print('{} : p-value: {:.3f}, statistically significant? {}'.format(i, p, yes_no(p)))"
   ]
  },
  {
   "cell_type": "markdown",
   "metadata": {},
   "source": [
    "Variables are statistically significant."
   ]
  },
  {
   "cell_type": "code",
   "execution_count": 14,
   "metadata": {},
   "outputs": [
    {
     "data": {
      "image/png": "[encoded data removed]",
      "text/plain": [
       "<Figure size 576x360 with 1 Axes>"
      ]
     },
     "metadata": {
      "needs_background": "light"
     },
     "output_type": "display_data"
    }
   ],
   "source": [
    "plt.figure(figsize=(8,5))\n",
    "plt.title('Time vs. Dollar', fontsize=16)\n",
    "plt.scatter(x=data.time, y=data.dollar, color='blue', edgecolor='k')\n",
    "plt.grid(True)\n",
    "plt.xlabel('Time', fontsize=14)\n",
    "plt.ylabel('Dollar', fontsize=14)\n",
    "plt.show()"
   ]
  },
  {
   "cell_type": "markdown",
   "metadata": {},
   "source": [
    "We can see that increase in time leads to increase in dollar's exchange rate"
   ]
  },
  {
   "cell_type": "markdown",
   "metadata": {},
   "source": [
    "To do the diagnostics of the model, we plot the residuals:"
   ]
  },
  {
   "cell_type": "code",
   "execution_count": 15,
   "metadata": {},
   "outputs": [
    {
     "data": {
      "image/png": "[encoded data removed]",
      "text/plain": [
       "<Figure size 576x360 with 1 Axes>"
      ]
     },
     "metadata": {
      "needs_background": "light"
     },
     "output_type": "display_data"
    }
   ],
   "source": [
    "plt.figure(figsize=(8,5))\n",
    "plt.scatter(x=fitted.fittedvalues, y=fitted.resid, color='blue', edgecolor='k')\n",
    "plt.grid(True)\n",
    "plt.xlabel('Fitted value', fontsize=14)\n",
    "plt.ylabel('Residual', fontsize=14)\n",
    "plt.show()"
   ]
  },
  {
   "cell_type": "markdown",
   "metadata": {},
   "source": [
    "We can see a heteroscedasticity from the plot above – there is a relationship between residuals and the fitted values."
   ]
  },
  {
   "cell_type": "markdown",
   "metadata": {},
   "source": [
    "---\n",
    "\n",
    "### Task 2. Open _datafile.dta_ file\n",
    "\n",
    "There is data from 2007 to 2016 on 96 federal executive bodies. The task is to identify the\n",
    "relationship between the level of remuneration of civil servants and various factors.\n",
    "\n",
    "Dependent variable: _Average monthly salary (salary)_\n",
    "\n",
    "Independent Variables:\n",
    "- Number of civil servants (v1)\n",
    "- Number of vacant positions (v2)\n",
    "- Number of civil servants with higher education (v3)\n",
    "- Number of civil servants with 2 or more higher education (v4)\n",
    "- The number of civil servants who received an additional education (v5)\n",
    "- Number of male civil servants (v6)\n",
    "- Number of female civil servants (v7)\n",
    "- Number of civil servants of retirement age (v8)\n",
    "- The number of civil servants whose work experience is less than 10 years (v9)\n",
    "- The number of civil servants whose work experience is from 10 to 25 years (v10)\n",
    "- The number of civil servants whose work experience is 25 years or more (v11)\n",
    "\n",
    "\n",
    "1. Select at least 7 independent variables (you can select more or all).\n",
    "2. Conduct tests to select one of three models:\n",
    "    - pulled regression model\n",
    "    - a model with fixed effects\n",
    "    - and a model with random effects.\n",
    "    Choose the right model and justify your choice\n",
    "3. Describe the resulting model as a whole.\n",
    "4. Describe the relationships between the dependent variable and the predictors (which relationships are significant, which are direct, which are inverse). Draw conclusions from the analysis.\n",
    "5. Save the individual effects as a separate variable and indicate the names of the federal executive bodies with the greatest and least individual effect."
   ]
  },
  {
   "cell_type": "code",
   "execution_count": 16,
   "metadata": {},
   "outputs": [
    {
     "name": "stdout",
     "output_type": "stream",
     "text": [
      "(960, 16)\n"
     ]
    },
    {
     "data": {
      "text/html": [
       "<div>\n",
       "<style scoped>\n",
       "    .dataframe tbody tr th:only-of-type {\n",
       "        vertical-align: middle;\n",
       "    }\n",
       "\n",
       "    .dataframe tbody tr th {\n",
       "        vertical-align: top;\n",
       "    }\n",
       "\n",
       "    .dataframe thead th {\n",
       "        text-align: right;\n",
       "    }\n",
       "</style>\n",
       "<table border=\"1\" class=\"dataframe\">\n",
       "  <thead>\n",
       "    <tr style=\"text-align: right;\">\n",
       "      <th></th>\n",
       "      <th>id</th>\n",
       "      <th>name</th>\n",
       "      <th>year</th>\n",
       "      <th>t</th>\n",
       "      <th>salary</th>\n",
       "      <th>v1</th>\n",
       "      <th>v2</th>\n",
       "      <th>v3</th>\n",
       "      <th>v4</th>\n",
       "      <th>v5</th>\n",
       "      <th>v6</th>\n",
       "      <th>v7</th>\n",
       "      <th>v8</th>\n",
       "      <th>v9</th>\n",
       "      <th>v10</th>\n",
       "      <th>v11</th>\n",
       "    </tr>\n",
       "  </thead>\n",
       "  <tbody>\n",
       "    <tr>\n",
       "      <th>0</th>\n",
       "      <td>4</td>\n",
       "      <td>МИД России</td>\n",
       "      <td>2016</td>\n",
       "      <td>10</td>\n",
       "      <td>147239</td>\n",
       "      <td>3233</td>\n",
       "      <td>93.131687</td>\n",
       "      <td>2812</td>\n",
       "      <td>163</td>\n",
       "      <td>1966</td>\n",
       "      <td>1908</td>\n",
       "      <td>1345</td>\n",
       "      <td>454</td>\n",
       "      <td>1296</td>\n",
       "      <td>1442</td>\n",
       "      <td>515</td>\n",
       "    </tr>\n",
       "    <tr>\n",
       "      <th>1</th>\n",
       "      <td>4</td>\n",
       "      <td>МИД России</td>\n",
       "      <td>2012</td>\n",
       "      <td>6</td>\n",
       "      <td>60376</td>\n",
       "      <td>3128</td>\n",
       "      <td>147.392670</td>\n",
       "      <td>0</td>\n",
       "      <td>0</td>\n",
       "      <td>1356</td>\n",
       "      <td>0</td>\n",
       "      <td>0</td>\n",
       "      <td>0</td>\n",
       "      <td>0</td>\n",
       "      <td>0</td>\n",
       "      <td>0</td>\n",
       "    </tr>\n",
       "    <tr>\n",
       "      <th>2</th>\n",
       "      <td>4</td>\n",
       "      <td>МИД России</td>\n",
       "      <td>2011</td>\n",
       "      <td>5</td>\n",
       "      <td>59501</td>\n",
       "      <td>3144</td>\n",
       "      <td>134.415016</td>\n",
       "      <td>0</td>\n",
       "      <td>0</td>\n",
       "      <td>1407</td>\n",
       "      <td>0</td>\n",
       "      <td>0</td>\n",
       "      <td>0</td>\n",
       "      <td>0</td>\n",
       "      <td>0</td>\n",
       "      <td>0</td>\n",
       "    </tr>\n",
       "  </tbody>\n",
       "</table>\n",
       "</div>"
      ],
      "text/plain": [
       "   id        name  year   t  salary    v1          v2    v3   v4    v5    v6  \\\n",
       "0   4  МИД России  2016  10  147239  3233   93.131687  2812  163  1966  1908   \n",
       "1   4  МИД России  2012   6   60376  3128  147.392670     0    0  1356     0   \n",
       "2   4  МИД России  2011   5   59501  3144  134.415016     0    0  1407     0   \n",
       "\n",
       "     v7   v8    v9   v10  v11  \n",
       "0  1345  454  1296  1442  515  \n",
       "1     0    0     0     0    0  \n",
       "2     0    0     0     0    0  "
      ]
     },
     "execution_count": 16,
     "metadata": {},
     "output_type": "execute_result"
    }
   ],
   "source": [
    "df = pd.read_stata('data/datafile.dta')\n",
    "print(df.shape)\n",
    "df.head(3)"
   ]
  },
  {
   "cell_type": "code",
   "execution_count": 17,
   "metadata": {},
   "outputs": [
    {
     "data": {
      "text/plain": [
       "{'id': 'id',\n",
       " 'name': 'Name of the Federal Executive Body',\n",
       " 'year': 'year',\n",
       " 't': 'year',\n",
       " 'salary': 'The average monthly salary of a public servant',\n",
       " 'v1': 'Number of public servants',\n",
       " 'v2': 'Number of Vacancies',\n",
       " 'v3': 'Number of public servants with higher education',\n",
       " 'v4': 'Number of public servants with two or more higher education diplomas',\n",
       " 'v5': 'Number of public servants who passed special training',\n",
       " 'v6': 'Number of public servants who are males',\n",
       " 'v7': 'Number of public servants who are females',\n",
       " 'v8': 'Number of public servants who are who are at retirement age',\n",
       " 'v9': 'Number of public servants with woking experience less than 10 years',\n",
       " 'v10': 'Number of public servants with woking experience from 10 to 25 years',\n",
       " 'v11': 'Number of public servants with woking experience more than 25 years'}"
      ]
     },
     "execution_count": 17,
     "metadata": {},
     "output_type": "execute_result"
    }
   ],
   "source": [
    "_, meta = pyreadstat.read_dta('data/datafile.dta')\n",
    "meta.column_names_to_labels"
   ]
  },
  {
   "cell_type": "code",
   "execution_count": 18,
   "metadata": {},
   "outputs": [],
   "source": [
    "data = df.drop(columns=['name', 't'])"
   ]
  },
  {
   "cell_type": "markdown",
   "metadata": {},
   "source": [
    "Check if we have any missing values"
   ]
  },
  {
   "cell_type": "code",
   "execution_count": 19,
   "metadata": {},
   "outputs": [
    {
     "data": {
      "text/plain": [
       "id        0\n",
       "year      0\n",
       "salary    0\n",
       "v1        0\n",
       "v2        0\n",
       "v3        0\n",
       "v4        0\n",
       "v5        0\n",
       "v6        0\n",
       "v7        0\n",
       "v8        0\n",
       "v9        0\n",
       "v10       0\n",
       "v11       0\n",
       "dtype: int64"
      ]
     },
     "execution_count": 19,
     "metadata": {},
     "output_type": "execute_result"
    }
   ],
   "source": [
    "data.isna().sum()"
   ]
  },
  {
   "cell_type": "markdown",
   "metadata": {},
   "source": [
    "Transform data to panel"
   ]
  },
  {
   "cell_type": "code",
   "execution_count": 20,
   "metadata": {},
   "outputs": [
    {
     "data": {
      "text/html": [
       "<div>\n",
       "<style scoped>\n",
       "    .dataframe tbody tr th:only-of-type {\n",
       "        vertical-align: middle;\n",
       "    }\n",
       "\n",
       "    .dataframe tbody tr th {\n",
       "        vertical-align: top;\n",
       "    }\n",
       "\n",
       "    .dataframe thead th {\n",
       "        text-align: right;\n",
       "    }\n",
       "</style>\n",
       "<table border=\"1\" class=\"dataframe\">\n",
       "  <thead>\n",
       "    <tr style=\"text-align: right;\">\n",
       "      <th></th>\n",
       "      <th></th>\n",
       "      <th>salary</th>\n",
       "      <th>v1</th>\n",
       "      <th>v2</th>\n",
       "      <th>v3</th>\n",
       "      <th>v4</th>\n",
       "      <th>v5</th>\n",
       "      <th>v6</th>\n",
       "      <th>v7</th>\n",
       "      <th>v8</th>\n",
       "      <th>v9</th>\n",
       "      <th>v10</th>\n",
       "      <th>v11</th>\n",
       "    </tr>\n",
       "    <tr>\n",
       "      <th>id</th>\n",
       "      <th>year</th>\n",
       "      <th></th>\n",
       "      <th></th>\n",
       "      <th></th>\n",
       "      <th></th>\n",
       "      <th></th>\n",
       "      <th></th>\n",
       "      <th></th>\n",
       "      <th></th>\n",
       "      <th></th>\n",
       "      <th></th>\n",
       "      <th></th>\n",
       "      <th></th>\n",
       "    </tr>\n",
       "  </thead>\n",
       "  <tbody>\n",
       "    <tr>\n",
       "      <th rowspan=\"3\" valign=\"top\">4</th>\n",
       "      <th>2016</th>\n",
       "      <td>147239</td>\n",
       "      <td>3233</td>\n",
       "      <td>93.131687</td>\n",
       "      <td>2812</td>\n",
       "      <td>163</td>\n",
       "      <td>1966</td>\n",
       "      <td>1908</td>\n",
       "      <td>1345</td>\n",
       "      <td>454</td>\n",
       "      <td>1296</td>\n",
       "      <td>1442</td>\n",
       "      <td>515</td>\n",
       "    </tr>\n",
       "    <tr>\n",
       "      <th>2012</th>\n",
       "      <td>60376</td>\n",
       "      <td>3128</td>\n",
       "      <td>147.392670</td>\n",
       "      <td>0</td>\n",
       "      <td>0</td>\n",
       "      <td>1356</td>\n",
       "      <td>0</td>\n",
       "      <td>0</td>\n",
       "      <td>0</td>\n",
       "      <td>0</td>\n",
       "      <td>0</td>\n",
       "      <td>0</td>\n",
       "    </tr>\n",
       "    <tr>\n",
       "      <th>2011</th>\n",
       "      <td>59501</td>\n",
       "      <td>3144</td>\n",
       "      <td>134.415016</td>\n",
       "      <td>0</td>\n",
       "      <td>0</td>\n",
       "      <td>1407</td>\n",
       "      <td>0</td>\n",
       "      <td>0</td>\n",
       "      <td>0</td>\n",
       "      <td>0</td>\n",
       "      <td>0</td>\n",
       "      <td>0</td>\n",
       "    </tr>\n",
       "  </tbody>\n",
       "</table>\n",
       "</div>"
      ],
      "text/plain": [
       "         salary    v1          v2    v3   v4    v5    v6    v7   v8    v9  \\\n",
       "id year                                                                     \n",
       "4  2016  147239  3233   93.131687  2812  163  1966  1908  1345  454  1296   \n",
       "   2012   60376  3128  147.392670     0    0  1356     0     0    0     0   \n",
       "   2011   59501  3144  134.415016     0    0  1407     0     0    0     0   \n",
       "\n",
       "          v10  v11  \n",
       "id year             \n",
       "4  2016  1442  515  \n",
       "   2012     0    0  \n",
       "   2011     0    0  "
      ]
     },
     "execution_count": 20,
     "metadata": {},
     "output_type": "execute_result"
    }
   ],
   "source": [
    "data = data.set_index(['id', 'year'])\n",
    "data.head(3)"
   ]
  },
  {
   "cell_type": "markdown",
   "metadata": {},
   "source": [
    "**Pooled regression** model:"
   ]
  },
  {
   "cell_type": "code",
   "execution_count": 21,
   "metadata": {},
   "outputs": [
    {
     "name": "stdout",
     "output_type": "stream",
     "text": [
      "                          PooledOLS Estimation Summary                          \n",
      "================================================================================\n",
      "Dep. Variable:                 salary   R-squared:                        0.3112\n",
      "Estimator:                  PooledOLS   R-squared (Between):              0.4209\n",
      "No. Observations:                 960   R-squared (Within):               0.2092\n",
      "Date:                Thu, Apr 23 2020   R-squared (Overall):              0.3112\n",
      "Time:                        01:29:57   Log-likelihood                -1.127e+04\n",
      "Cov. Estimator:            Unadjusted                                           \n",
      "                                        F-statistic:                      38.935\n",
      "Entities:                          96   P-value                           0.0000\n",
      "Avg Obs:                      10.0000   Distribution:                  F(11,948)\n",
      "Min Obs:                      10.0000                                           \n",
      "Max Obs:                      10.0000   F-statistic (robust):             38.935\n",
      "                                        P-value                           0.0000\n",
      "Time periods:                      10   Distribution:                  F(11,948)\n",
      "Avg Obs:                       96.000                                           \n",
      "Min Obs:                       96.000                                           \n",
      "Max Obs:                       96.000                                           \n",
      "                                                                                \n",
      "                             Parameter Estimates                              \n",
      "==============================================================================\n",
      "            Parameter  Std. Err.     T-stat    P-value    Lower CI    Upper CI\n",
      "------------------------------------------------------------------------------\n",
      "const       3.461e+04     1243.1     27.845     0.0000   3.217e+04   3.705e+04\n",
      "v1             17.634     3.9741     4.4372     0.0000      9.8348      25.433\n",
      "v2             81.993     10.544     7.7764     0.0000      61.301      102.68\n",
      "v3             540.23     77.593     6.9624     0.0000      387.96      692.51\n",
      "v4             34.973     58.101     0.6019     0.5474     -79.049      148.99\n",
      "v5             6.9555     9.8155     0.7086     0.4787     -12.307      26.218\n",
      "v6            -177.17     210.69    -0.8409     0.4006     -590.64      236.31\n",
      "v7            -273.29     209.26    -1.3060     0.1919     -683.97      137.38\n",
      "v8             382.98     110.07     3.4793     0.0005      166.96      598.99\n",
      "v9            -299.95     222.29    -1.3494     0.1775     -736.19      136.28\n",
      "v10           -168.38     223.07    -0.7548     0.4506     -606.15      269.40\n",
      "v11           -557.77     237.94    -2.3441     0.0193     -1024.7     -90.815\n",
      "==============================================================================\n"
     ]
    }
   ],
   "source": [
    "exog = add_constant(data[data.columns.drop('salary')])\n",
    "pool_model = lm.PooledOLS(data.salary, exog)\n",
    "pool_fitted = pool_model.fit()\n",
    "print(pool_fitted)"
   ]
  },
  {
   "cell_type": "markdown",
   "metadata": {},
   "source": [
    "**Fixed effects** model:"
   ]
  },
  {
   "cell_type": "code",
   "execution_count": 22,
   "metadata": {},
   "outputs": [
    {
     "name": "stdout",
     "output_type": "stream",
     "text": [
      "                          PanelOLS Estimation Summary                           \n",
      "================================================================================\n",
      "Dep. Variable:                 salary   R-squared:                        0.2597\n",
      "Estimator:                   PanelOLS   R-squared (Between):              0.0575\n",
      "No. Observations:                 960   R-squared (Within):               0.2597\n",
      "Date:                Thu, Apr 23 2020   R-squared (Overall):              0.1623\n",
      "Time:                        01:29:57   Log-likelihood                -1.098e+04\n",
      "Cov. Estimator:            Unadjusted                                           \n",
      "                                        F-statistic:                      27.207\n",
      "Entities:                          96   P-value                           0.0000\n",
      "Avg Obs:                      10.0000   Distribution:                  F(11,853)\n",
      "Min Obs:                      10.0000                                           \n",
      "Max Obs:                      10.0000   F-statistic (robust):             27.207\n",
      "                                        P-value                           0.0000\n",
      "Time periods:                      10   Distribution:                  F(11,853)\n",
      "Avg Obs:                       96.000                                           \n",
      "Min Obs:                       96.000                                           \n",
      "Max Obs:                       96.000                                           \n",
      "                                                                                \n",
      "                             Parameter Estimates                              \n",
      "==============================================================================\n",
      "            Parameter  Std. Err.     T-stat    P-value    Lower CI    Upper CI\n",
      "------------------------------------------------------------------------------\n",
      "const       2.879e+04     1666.5     17.275     0.0000   2.552e+04   3.206e+04\n",
      "v1             21.216     4.7028     4.5113     0.0000      11.985      30.446\n",
      "v2             89.199     11.556     7.7189     0.0000      66.517      111.88\n",
      "v3             299.54     64.874     4.6173     0.0000      172.21      426.87\n",
      "v4             94.109     50.009     1.8818     0.0602     -4.0465      192.27\n",
      "v5             73.818     11.025     6.6953     0.0000      52.178      95.458\n",
      "v6             38.784     174.77     0.2219     0.8244     -304.25      381.82\n",
      "v7            -46.876     173.50    -0.2702     0.7871     -387.40      293.65\n",
      "v8             254.39     94.883     2.6811     0.0075      68.157      440.62\n",
      "v9            -274.33     184.25    -1.4889     0.1369     -635.97      87.311\n",
      "v10           -233.59     185.09    -1.2620     0.2073     -596.88      129.70\n",
      "v11           -490.30     197.20    -2.4863     0.0131     -877.36     -103.25\n",
      "==============================================================================\n",
      "\n",
      "F-test for Poolability: 7.1403\n",
      "P-value: 0.0000\n",
      "Distribution: F(95,853)\n",
      "\n",
      "Included effects: Entity\n"
     ]
    }
   ],
   "source": [
    "fixed_model = lm.PanelOLS(data.salary, exog, entity_effects=True)\n",
    "fixed_fitted = fixed_model.fit()\n",
    "print(fixed_fitted)"
   ]
  },
  {
   "cell_type": "markdown",
   "metadata": {},
   "source": [
    "**Random effects** model:"
   ]
  },
  {
   "cell_type": "code",
   "execution_count": 23,
   "metadata": {},
   "outputs": [
    {
     "name": "stdout",
     "output_type": "stream",
     "text": [
      "                        RandomEffects Estimation Summary                        \n",
      "================================================================================\n",
      "Dep. Variable:                 salary   R-squared:                        0.2587\n",
      "Estimator:              RandomEffects   R-squared (Between):              0.3310\n",
      "No. Observations:                 960   R-squared (Within):               0.2469\n",
      "Date:                Thu, Apr 23 2020   R-squared (Overall):              0.2874\n",
      "Time:                        01:29:57   Log-likelihood                -1.106e+04\n",
      "Cov. Estimator:            Unadjusted                                           \n",
      "                                        F-statistic:                      30.080\n",
      "Entities:                          96   P-value                           0.0000\n",
      "Avg Obs:                      10.0000   Distribution:                  F(11,948)\n",
      "Min Obs:                      10.0000                                           \n",
      "Max Obs:                      10.0000   F-statistic (robust):             30.080\n",
      "                                        P-value                           0.0000\n",
      "Time periods:                      10   Distribution:                  F(11,948)\n",
      "Avg Obs:                       96.000                                           \n",
      "Min Obs:                       96.000                                           \n",
      "Max Obs:                       96.000                                           \n",
      "                                                                                \n",
      "                             Parameter Estimates                              \n",
      "==============================================================================\n",
      "            Parameter  Std. Err.     T-stat    P-value    Lower CI    Upper CI\n",
      "------------------------------------------------------------------------------\n",
      "const       3.342e+04     2141.7     15.603     0.0000   2.921e+04   3.762e+04\n",
      "v1             12.814     3.9738     3.2245     0.0013      5.0151      20.612\n",
      "v2             91.559     10.814     8.4666     0.0000      70.337      112.78\n",
      "v3             387.93     64.846     5.9824     0.0000      260.67      515.19\n",
      "v4             65.880     50.155     1.3135     0.1893     -32.548      164.31\n",
      "v5             42.381     9.6498     4.3919     0.0000      23.444      61.319\n",
      "v6             3.8338     177.16     0.0216     0.9827     -343.83      351.50\n",
      "v7            -92.911     175.91    -0.5282     0.5975     -438.13      252.31\n",
      "v8             281.95     95.411     2.9551     0.0032      94.713      469.20\n",
      "v9            -318.54     186.57    -1.7073     0.0881     -684.67      47.600\n",
      "v10           -258.15     187.37    -1.3777     0.1686     -625.86      109.56\n",
      "v11           -537.75     199.73    -2.6924     0.0072     -929.71     -145.80\n",
      "==============================================================================\n"
     ]
    }
   ],
   "source": [
    "random_model = lm.RandomEffects(data.salary, exog)\n",
    "random_fitted = random_model.fit()\n",
    "print(random_fitted)"
   ]
  },
  {
   "cell_type": "code",
   "execution_count": 24,
   "metadata": {},
   "outputs": [
    {
     "name": "stdout",
     "output_type": "stream",
     "text": [
      "                            Model Comparison                           \n",
      "=======================================================================\n",
      "                                Pooled          Fixed            Random\n",
      "-----------------------------------------------------------------------\n",
      "Dep. Variable                   salary         salary            salary\n",
      "Estimator                    PooledOLS       PanelOLS     RandomEffects\n",
      "No. Observations                   960            960               960\n",
      "Cov. Est.                   Unadjusted     Unadjusted        Unadjusted\n",
      "R-squared                       0.3112         0.2597            0.2587\n",
      "R-Squared (Within)              0.2092         0.2597            0.2469\n",
      "R-Squared (Between)             0.4209         0.0575            0.3310\n",
      "R-Squared (Overall)             0.3112         0.1623            0.2874\n",
      "F-statistic                     38.935         27.207            30.080\n",
      "P-value (F-stat)                0.0000         0.0000            0.0000\n",
      "=====================     ============   ============   ===============\n",
      "const                        3.461e+04      2.879e+04         3.342e+04\n",
      "                              (27.845)       (17.275)          (15.603)\n",
      "v1                              17.634         21.216            12.814\n",
      "                              (4.4372)       (4.5113)          (3.2245)\n",
      "v2                              81.993         89.199            91.559\n",
      "                              (7.7764)       (7.7189)          (8.4666)\n",
      "v3                              540.23         299.54            387.93\n",
      "                              (6.9624)       (4.6173)          (5.9824)\n",
      "v4                              34.973         94.109            65.880\n",
      "                              (0.6019)       (1.8818)          (1.3135)\n",
      "v5                              6.9555         73.818            42.381\n",
      "                              (0.7086)       (6.6953)          (4.3919)\n",
      "v6                             -177.17         38.784            3.8338\n",
      "                             (-0.8409)       (0.2219)          (0.0216)\n",
      "v7                             -273.29        -46.876           -92.911\n",
      "                             (-1.3060)      (-0.2702)         (-0.5282)\n",
      "v8                              382.98         254.39            281.95\n",
      "                              (3.4793)       (2.6811)          (2.9551)\n",
      "v9                             -299.95        -274.33           -318.54\n",
      "                             (-1.3494)      (-1.4889)         (-1.7073)\n",
      "v10                            -168.38        -233.59           -258.15\n",
      "                             (-0.7548)      (-1.2620)         (-1.3777)\n",
      "v11                            -557.77        -490.30           -537.75\n",
      "                             (-2.3441)      (-2.4863)         (-2.6924)\n",
      "======================= ============== ============== =================\n",
      "Effects                                        Entity                  \n",
      "-----------------------------------------------------------------------\n",
      "\n",
      "T-stats reported in parentheses\n"
     ]
    }
   ],
   "source": [
    "print(lm.compare({'Pooled':pool_fitted, 'Fixed':fixed_fitted, 'Random':random_fitted}))"
   ]
  },
  {
   "cell_type": "markdown",
   "metadata": {},
   "source": [
    "First, we check if all included effects are zero. If so, we should select Pooled and Fixed or Random otherwise"
   ]
  },
  {
   "cell_type": "code",
   "execution_count": 25,
   "metadata": {},
   "outputs": [
    {
     "data": {
      "text/plain": [
       "Pooled F-statistic\n",
       "H0: Effects are zero\n",
       "Statistic: 7.1403\n",
       "P-value: 0.0000\n",
       "Distributed: F(95,853)\n",
       "WaldTestStatistic, id: 0x121cd9ad0"
      ]
     },
     "execution_count": 25,
     "metadata": {},
     "output_type": "execute_result"
    }
   ],
   "source": [
    "fixed_fitted.f_pooled"
   ]
  },
  {
   "cell_type": "markdown",
   "metadata": {},
   "source": [
    "P-value is much lower than the 5% threshold, so we reject H0.\n",
    "\n",
    "Then we compute Hausman test to choose between model with Fixed and Random effects.\n",
    "\n",
    "The null hypothesis supports the claim that *individual effects and regressors are not correlated*. "
   ]
  },
  {
   "cell_type": "code",
   "execution_count": 26,
   "metadata": {},
   "outputs": [],
   "source": [
    "# Credits: https://github.com/sglyon/econtools/blob/master/Python/econtools/metrics.py\n",
    "def hausman(fe, re):\n",
    "    import numpy as np\n",
    "    import numpy.linalg as la\n",
    "    from scipy import stats\n",
    "    \"\"\"\n",
    "    Compute hausman test for fixed effects/random effects models\n",
    "    b = beta_fe\n",
    "    B = beta_re\n",
    "    From theory we have that b is always consistent, but B is consistent\n",
    "    under the alternative hypothesis and efficient under the null.\n",
    "    The test statistic is computed as\n",
    "    z = (b - B)' [V_b - v_B^{-1}](b - B)\n",
    "    The statistic is distributed z \\sim \\chi^2(k), where k is the number\n",
    "    of regressors in the model.\n",
    "    Parameters\n",
    "    ==========\n",
    "    fe : statsmodels.regression.linear_panel.PanelLMWithinResults\n",
    "        The results obtained by using sm.PanelLM with the\n",
    "        method='within' option.\n",
    "    re : statsmodels.regression.linear_panel.PanelLMRandomResults\n",
    "        The results obtained by using sm.PanelLM with the\n",
    "        method='swar' option.\n",
    "    Returns\n",
    "    =======\n",
    "    chi2 : float\n",
    "        The test statistic\n",
    "    df : int\n",
    "        The number of degrees of freedom for the distribution of the\n",
    "        test statistic\n",
    "    pval : float\n",
    "        The p-value associated with the null hypothesis\n",
    "    Notes\n",
    "    =====\n",
    "    The null hypothesis supports the claim that the random effects\n",
    "    estimator is \"better\". If we reject this hypothesis it is the same\n",
    "    as saying we should be using fixed effects because there are\n",
    "    systematic differences in the coefficients.\n",
    "    \"\"\"\n",
    "\n",
    "    # Pull data out\n",
    "    b = fe.params\n",
    "    B = re.params\n",
    "    v_b = fe.cov\n",
    "    v_B = re.cov\n",
    "\n",
    "    # NOTE: find df. fe should toss time-invariant variables, but it\n",
    "    #       doesn't. It does return garbage so we use that to filter\n",
    "    df = b[np.abs(b) < 1e8].size\n",
    "\n",
    "    # compute test statistic and associated p-value\n",
    "    chi2 = np.dot((b - B).T, la.inv(v_b - v_B).dot(b - B))\n",
    "    pval = stats.chi2.sf(chi2, df)\n",
    "\n",
    "    return chi2, df, pval"
   ]
  },
  {
   "cell_type": "code",
   "execution_count": 27,
   "metadata": {},
   "outputs": [],
   "source": [
    "chi2, d_f, pval = hausman(fixed_fitted, random_fitted)"
   ]
  },
  {
   "cell_type": "code",
   "execution_count": 28,
   "metadata": {},
   "outputs": [
    {
     "name": "stdout",
     "output_type": "stream",
     "text": [
      "0.000\n"
     ]
    }
   ],
   "source": [
    "print('{:.3f}'.format(pval))"
   ]
  },
  {
   "cell_type": "markdown",
   "metadata": {},
   "source": [
    "The p-value is much lower than 5% threshold, so we reject **H0** and select **Fixed effects** model as our final model."
   ]
  },
  {
   "cell_type": "markdown",
   "metadata": {},
   "source": [
    "### Model description"
   ]
  },
  {
   "cell_type": "code",
   "execution_count": 29,
   "metadata": {},
   "outputs": [
    {
     "data": {
      "text/html": [
       "<div>\n",
       "<style scoped>\n",
       "    .dataframe tbody tr th:only-of-type {\n",
       "        vertical-align: middle;\n",
       "    }\n",
       "\n",
       "    .dataframe tbody tr th {\n",
       "        vertical-align: top;\n",
       "    }\n",
       "\n",
       "    .dataframe thead th {\n",
       "        text-align: right;\n",
       "    }\n",
       "</style>\n",
       "<table border=\"1\" class=\"dataframe\">\n",
       "  <thead>\n",
       "    <tr style=\"text-align: right;\">\n",
       "      <th></th>\n",
       "      <th>p_values</th>\n",
       "      <th>5% level</th>\n",
       "    </tr>\n",
       "    <tr>\n",
       "      <th>Features</th>\n",
       "      <th></th>\n",
       "      <th></th>\n",
       "    </tr>\n",
       "  </thead>\n",
       "  <tbody>\n",
       "    <tr>\n",
       "      <th>const</th>\n",
       "      <td>0.000</td>\n",
       "      <td>Yes</td>\n",
       "    </tr>\n",
       "    <tr>\n",
       "      <th>v1</th>\n",
       "      <td>0.000</td>\n",
       "      <td>Yes</td>\n",
       "    </tr>\n",
       "    <tr>\n",
       "      <th>v2</th>\n",
       "      <td>0.000</td>\n",
       "      <td>Yes</td>\n",
       "    </tr>\n",
       "    <tr>\n",
       "      <th>v3</th>\n",
       "      <td>0.000</td>\n",
       "      <td>Yes</td>\n",
       "    </tr>\n",
       "    <tr>\n",
       "      <th>v4</th>\n",
       "      <td>0.060</td>\n",
       "      <td>No</td>\n",
       "    </tr>\n",
       "    <tr>\n",
       "      <th>v5</th>\n",
       "      <td>0.000</td>\n",
       "      <td>Yes</td>\n",
       "    </tr>\n",
       "    <tr>\n",
       "      <th>v6</th>\n",
       "      <td>0.824</td>\n",
       "      <td>No</td>\n",
       "    </tr>\n",
       "    <tr>\n",
       "      <th>v7</th>\n",
       "      <td>0.787</td>\n",
       "      <td>No</td>\n",
       "    </tr>\n",
       "    <tr>\n",
       "      <th>v8</th>\n",
       "      <td>0.007</td>\n",
       "      <td>Yes</td>\n",
       "    </tr>\n",
       "    <tr>\n",
       "      <th>v9</th>\n",
       "      <td>0.137</td>\n",
       "      <td>No</td>\n",
       "    </tr>\n",
       "    <tr>\n",
       "      <th>v10</th>\n",
       "      <td>0.207</td>\n",
       "      <td>No</td>\n",
       "    </tr>\n",
       "    <tr>\n",
       "      <th>v11</th>\n",
       "      <td>0.013</td>\n",
       "      <td>Yes</td>\n",
       "    </tr>\n",
       "  </tbody>\n",
       "</table>\n",
       "</div>"
      ],
      "text/plain": [
       "         p_values 5% level\n",
       "Features                  \n",
       "const       0.000      Yes\n",
       "v1          0.000      Yes\n",
       "v2          0.000      Yes\n",
       "v3          0.000      Yes\n",
       "v4          0.060       No\n",
       "v5          0.000      Yes\n",
       "v6          0.824       No\n",
       "v7          0.787       No\n",
       "v8          0.007      Yes\n",
       "v9          0.137       No\n",
       "v10         0.207       No\n",
       "v11         0.013      Yes"
      ]
     },
     "execution_count": 29,
     "metadata": {},
     "output_type": "execute_result"
    }
   ],
   "source": [
    "pvals = pd.DataFrame()\n",
    "pvals['p_values'] = fixed_fitted.pvalues\n",
    "pvals['5% level']= pvals['p_values'].apply(yes_no)\n",
    "pvals['p_values'] = pvals['p_values'].map('{:.3f}'.format)\n",
    "pvals['Features'] = fixed_fitted.params.index\n",
    "pvals.set_index('Features',inplace=True)\n",
    "pvals"
   ]
  },
  {
   "cell_type": "code",
   "execution_count": 30,
   "metadata": {},
   "outputs": [
    {
     "data": {
      "text/plain": [
       "const    28789.319803\n",
       "v1          21.215661\n",
       "v2          89.198788\n",
       "v3         299.539683\n",
       "v4          94.109427\n",
       "v5          73.817731\n",
       "v6          38.783898\n",
       "v7         -46.876289\n",
       "v8         254.389149\n",
       "v9        -274.330070\n",
       "v10       -233.593017\n",
       "v11       -490.304906\n",
       "Name: parameter, dtype: float64"
      ]
     },
     "execution_count": 30,
     "metadata": {},
     "output_type": "execute_result"
    }
   ],
   "source": [
    "fixed_fitted.params"
   ]
  },
  {
   "cell_type": "markdown",
   "metadata": {},
   "source": [
    "We can see that v4, v6, v7, v9 & v10 are not statistically significant at 5% level.\n",
    "\n",
    "We can also see, that increase in number of public servants who are females (v7), as well as v9-v11, has negative impact on the average monthly salary.\n",
    "\n",
    "Number of public servants with higher education has the highest positive influence. "
   ]
  },
  {
   "cell_type": "code",
   "execution_count": 31,
   "metadata": {},
   "outputs": [
    {
     "data": {
      "text/html": [
       "<div>\n",
       "<style scoped>\n",
       "    .dataframe tbody tr th:only-of-type {\n",
       "        vertical-align: middle;\n",
       "    }\n",
       "\n",
       "    .dataframe tbody tr th {\n",
       "        vertical-align: top;\n",
       "    }\n",
       "\n",
       "    .dataframe thead th {\n",
       "        text-align: right;\n",
       "    }\n",
       "</style>\n",
       "<table border=\"1\" class=\"dataframe\">\n",
       "  <thead>\n",
       "    <tr style=\"text-align: right;\">\n",
       "      <th></th>\n",
       "      <th></th>\n",
       "      <th>estimated_effects</th>\n",
       "    </tr>\n",
       "    <tr>\n",
       "      <th>id</th>\n",
       "      <th>year</th>\n",
       "      <th></th>\n",
       "    </tr>\n",
       "  </thead>\n",
       "  <tbody>\n",
       "    <tr>\n",
       "      <th rowspan=\"3\" valign=\"top\">4</th>\n",
       "      <th>2016</th>\n",
       "      <td>-125012.355969</td>\n",
       "    </tr>\n",
       "    <tr>\n",
       "      <th>2012</th>\n",
       "      <td>-125012.355969</td>\n",
       "    </tr>\n",
       "    <tr>\n",
       "      <th>2011</th>\n",
       "      <td>-125012.355969</td>\n",
       "    </tr>\n",
       "  </tbody>\n",
       "</table>\n",
       "</div>"
      ],
      "text/plain": [
       "         estimated_effects\n",
       "id year                   \n",
       "4  2016     -125012.355969\n",
       "   2012     -125012.355969\n",
       "   2011     -125012.355969"
      ]
     },
     "execution_count": 31,
     "metadata": {},
     "output_type": "execute_result"
    }
   ],
   "source": [
    "eff = fixed_fitted.estimated_effects\n",
    "eff.head(3)"
   ]
  },
  {
   "cell_type": "code",
   "execution_count": 32,
   "metadata": {},
   "outputs": [
    {
     "data": {
      "text/plain": [
       "(1, 2016)"
      ]
     },
     "execution_count": 32,
     "metadata": {},
     "output_type": "execute_result"
    }
   ],
   "source": [
    "max_id = eff.idxmax()[0]\n",
    "min_id = eff.idxmin()[0]\n",
    "max_id"
   ]
  },
  {
   "cell_type": "code",
   "execution_count": 33,
   "metadata": {},
   "outputs": [
    {
     "data": {
      "text/plain": [
       "(4, 2016)"
      ]
     },
     "execution_count": 33,
     "metadata": {},
     "output_type": "execute_result"
    }
   ],
   "source": [
    "min_id"
   ]
  },
  {
   "cell_type": "code",
   "execution_count": 34,
   "metadata": {},
   "outputs": [
    {
     "name": "stdout",
     "output_type": "stream",
     "text": [
      "Greatest individual effect: ['Аппарат Правительства РФ']\n",
      "Least individual effect: ['МИД России']\n"
     ]
    }
   ],
   "source": [
    "print('Greatest individual effect: {}'.format(df[df.id == max_id[0]].name.unique()))\n",
    "print('Least individual effect: {}'.format(df[df.id == min_id[0]].name.unique()))"
   ]
  }
 ],
 "metadata": {
  "kernelspec": {
   "display_name": "Python 3",
   "language": "python",
   "name": "python3"
  },
  "language_info": {
   "codemirror_mode": {
    "name": "ipython",
    "version": 3
   },
   "file_extension": ".py",
   "mimetype": "text/x-python",
   "name": "python",
   "nbconvert_exporter": "python",
   "pygments_lexer": "ipython3",
   "version": "3.7.6"
  }
 },
 "nbformat": 4,
 "nbformat_minor": 4
}
